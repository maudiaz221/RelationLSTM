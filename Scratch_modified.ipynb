{
  "cells": [
    {
      "cell_type": "code",
      "execution_count": 1,
      "metadata": {
        "id": "J5UxSNUq74LD"
      },
      "outputs": [],
      "source": [
        "import os\n",
        "import numpy as np\n",
        "import pandas as pd\n",
        "import seaborn as sns\n",
        "import matplotlib.pyplot as plt\n",
        "import torch"
      ]
    },
    {
      "cell_type": "code",
      "execution_count": 2,
      "metadata": {
        "id": "aiw9GA4V74LF"
      },
      "outputs": [],
      "source": [
        "# Necessary for loading data and modeling in PyTorch\n",
        "import torch\n",
        "import torch.nn as nn\n",
        "import torch.nn.functional as F\n",
        "import torch.optim as optim"
      ]
    },
    {
      "cell_type": "code",
      "execution_count": 35,
      "metadata": {
        "id": "Ox8XMHOY74LF"
      },
      "outputs": [],
      "source": [
        "# The data shared for NMA projects is a subset of the full HCP dataset\n",
        "N_SUBJECTS = 150\n",
        "\n",
        "# The data have already been aggregated into ROIs from the Glasser parcellation\n",
        "N_PARCELS = 360\n",
        "\n",
        "# The acquisition parameters for all tasks were identical\n",
        "TR = 0.72  # Time resolution, in seconds\n",
        "\n",
        "# The parcels are matched across hemispheres with the same order\n",
        "HEMIS = [\"Right\", \"Left\"]\n",
        "\n",
        "# Each experiment was repeated twice in each subject\n",
        "RUNS   = ['LR','RL']\n",
        "N_RUNS = 2\n",
        "\n",
        "# There are 7 tasks. Each has a number of 'conditions'\n",
        "# TIP: look inside the data folders for more fine-graned conditions\n",
        "\n",
        "EXPERIMENTS = {\n",
        "    'RELATIONAL' : {'cond':['match','relation']}\n",
        "}"
      ]
    },
    {
      "cell_type": "code",
      "source": [
        "# @title Download data file\n",
        "import os, requests\n",
        "\n",
        "fname = \"hcp_task.tgz\"\n",
        "url = \"https://osf.io/2y3fw/download\"\n",
        "\n",
        "if not os.path.isfile(fname):\n",
        "  try:\n",
        "    r = requests.get(url)\n",
        "  except requests.ConnectionError:\n",
        "    print(\"!!! Failed to download data !!!\")\n",
        "  else:\n",
        "    if r.status_code != requests.codes.ok:\n",
        "      print(\"!!! Failed to download data !!!\")\n",
        "    else:\n",
        "      with open(fname, \"wb\") as fid:\n",
        "        fid.write(r.content)"
      ],
      "metadata": {
        "id": "OZxe6DJd80OE"
      },
      "execution_count": 36,
      "outputs": []
    },
    {
      "cell_type": "code",
      "source": [
        "with open('/content/hcp_task/subjects_list.txt', 'r') as f:\n",
        "  lines = str(f.readline()).split(' ')\n",
        "\n",
        "\n",
        "\n",
        "\n",
        "len(lines)"
      ],
      "metadata": {
        "colab": {
          "base_uri": "https://localhost:8080/"
        },
        "id": "Zus4zSH9A0Ac",
        "outputId": "f3824cb7-9ccb-487d-f57d-2f008fbc1226"
      },
      "execution_count": 61,
      "outputs": [
        {
          "output_type": "execute_result",
          "data": {
            "text/plain": [
              "100"
            ]
          },
          "metadata": {},
          "execution_count": 61
        }
      ]
    },
    {
      "cell_type": "code",
      "source": [
        "lines"
      ],
      "metadata": {
        "colab": {
          "base_uri": "https://localhost:8080/"
        },
        "id": "ilgcPO-RBFi6",
        "outputId": "1793bbe5-ddda-4df0-8b5d-af84bbe172e9"
      },
      "execution_count": 59,
      "outputs": [
        {
          "output_type": "execute_result",
          "data": {
            "text/plain": [
              "['100307 100408 101915 102816 103414 103515 103818 105115 105216 106016 106319 110411 111009 111312 111514 111716 113215 113619 114924 115320 117122 117324 118730 118932 119833 120111 120212 122317 123117 124422 125525 126325 127933 128632 129028 130013 130316 130922 131924 133625 133827 133928 134324 135932 136833 137128 138231 138534 139637 140824 142828 143325 148032 148335 149337 149539 150524 151223 151526 151627 153025 153429 154431 156233 156637 157336 158035 158540 159239 159340 160123 161731 162329 162733 163129 163432 167743 172332 175439 176542 178950 182739 185139 188347 189450 190031 192439 192540 193239 194140 196144 196750 197550 198451 199150 199655 200614 201111 201414 205119\\n']"
            ]
          },
          "metadata": {},
          "execution_count": 59
        }
      ]
    },
    {
      "cell_type": "code",
      "execution_count": 37,
      "metadata": {
        "id": "KXPqLZvA74LG"
      },
      "outputs": [],
      "source": [
        "# The download cells will store the data in nested directories starting here:\n",
        "HCP_DIR = \"./hcp_task\"\n",
        "\n",
        "# importing the \"tarfile\" module\n",
        "import tarfile\n",
        "\n",
        "# open file\n",
        "with tarfile.open(fname) as tfile:\n",
        "  # extracting file\n",
        "  tfile.extractall('.')\n",
        "\n",
        "subjects = np.loadtxt(os.path.join(HCP_DIR, 'subjects_list.txt'), dtype='str')"
      ]
    },
    {
      "cell_type": "markdown",
      "metadata": {
        "id": "pmcyLHiu74LH"
      },
      "source": [
        "## Understanding the folder organisation\n",
        "\n",
        "The data folder has the following organisation:\n",
        "\n",
        "- hcp\n",
        "  - regions.npy (information on the brain parcellation)\n",
        "  - subjects_list.txt (list of subject IDs)\n",
        "  - subjects (main data folder)\n",
        "    - [subjectID] (subject-specific subfolder)\n",
        "      - EXPERIMENT (one folder per experiment)\n",
        "        - RUN (one folder per run)\n",
        "          - data.npy (the parcellated time series data)\n",
        "          - EVs (EVs folder)\n",
        "            - [ev1.txt] (one file per condition)\n",
        "            - [ev2.txt]\n",
        "            - Stats.txt (behavioural data [where available] - averaged per run)\n",
        "            - Sync.txt (ignore this file)\n",
        "\n"
      ]
    },
    {
      "cell_type": "code",
      "execution_count": 38,
      "metadata": {
        "id": "sI9da3wL74LI"
      },
      "outputs": [],
      "source": [
        "regions = np.load(f\"{HCP_DIR}/regions.npy\").T\n",
        "region_info = dict(\n",
        "    name=regions[0].tolist(),\n",
        "    network=regions[1],\n",
        "    hemi=['Right']*int(N_PARCELS/2) + ['Left']*int(N_PARCELS/2),\n",
        ")"
      ]
    },
    {
      "cell_type": "code",
      "execution_count": 39,
      "metadata": {
        "id": "vCF1WdvT74LJ"
      },
      "outputs": [],
      "source": [
        "def load_single_timeseries(subject, experiment, run, remove_mean=True):\n",
        "  \"\"\"Load timeseries data for a single subject and single run.\n",
        "\n",
        "  Args:\n",
        "    subject (str):      subject ID to load\n",
        "    experiment (str):   Name of experiment\n",
        "    run (int):          (0 or 1)\n",
        "    remove_mean (bool): If True, subtract the parcel-wise mean (typically the mean BOLD signal is not of interest)\n",
        "\n",
        "  Returns\n",
        "    ts (n_parcel x n_timepoint array): Array of BOLD data values\n",
        "\n",
        "  \"\"\"\n",
        "  bold_run  = RUNS[run]\n",
        "  bold_path = f\"{HCP_DIR}/subjects/{subject}/{experiment}/tfMRI_{experiment}_{bold_run}\"\n",
        "  bold_file = \"data.npy\"\n",
        "  ts = np.load(f\"{bold_path}/{bold_file}\")\n",
        "  if remove_mean:\n",
        "    ts -= ts.mean(axis=1, keepdims=True)\n",
        "  return ts\n",
        "\n",
        "\n",
        "def load_evs(subject, experiment, run):\n",
        "  \"\"\"Load EVs (explanatory variables) data for one task experiment.\n",
        "\n",
        "  Args:\n",
        "    subject (str): subject ID to load\n",
        "    experiment (str) : Name of experiment\n",
        "    run (int): 0 or 1\n",
        "\n",
        "  Returns\n",
        "    evs (list of lists): A list of frames associated with each condition\n",
        "\n",
        "  \"\"\"\n",
        "  frames_list = []\n",
        "  taskey = f'tfMRI_{experiment}_{RUNS[run]}'\n",
        "  for cond in EXPERIMENTS[experiment]['cond']:\n",
        "    ev_file  = f\"{HCP_DIR}/subjects/{subject}/{experiment}/{taskey}/EVs/{cond}.txt\"\n",
        "    ev_array = np.loadtxt(ev_file, ndmin=2, unpack=True)\n",
        "    ev       = dict(zip([\"onset\", \"duration\", \"amplitude\"], ev_array))\n",
        "    # Determine when trial starts, rounded down\n",
        "    start = np.floor(ev[\"onset\"] / TR).astype(int)\n",
        "    # Use trial duration to determine how many frames to include for trial\n",
        "    duration = np.ceil(ev[\"duration\"] / TR).astype(int)\n",
        "    # Take the range of frames that correspond to this specific trial\n",
        "    frames = [s + np.arange(0, d) for s, d in zip(start, duration)]\n",
        "    frames_list.append(frames)\n",
        "\n",
        "  return frames_list"
      ]
    },
    {
      "cell_type": "code",
      "execution_count": 40,
      "metadata": {
        "colab": {
          "base_uri": "https://localhost:8080/"
        },
        "id": "sSP25y-p74LK",
        "outputId": "12bedd34-fab0-4d1e-dd0c-86202e3e4656"
      },
      "outputs": [
        {
          "output_type": "stream",
          "name": "stdout",
          "text": [
            "(360, 232)\n"
          ]
        }
      ],
      "source": [
        "my_exp = 'RELATIONAL'\n",
        "my_subj = subjects[1]\n",
        "my_run = 1\n",
        "\n",
        "data = load_single_timeseries(subject=my_subj,\n",
        "                              experiment=my_exp,\n",
        "                              run=my_run,\n",
        "                              remove_mean=True)\n",
        "print(data.shape)"
      ]
    },
    {
      "cell_type": "code",
      "execution_count": 41,
      "metadata": {
        "id": "ZWgk_xwB74LL"
      },
      "outputs": [],
      "source": [
        "evs = load_evs(subject=my_subj, experiment=my_exp, run=my_run)"
      ]
    },
    {
      "cell_type": "code",
      "execution_count": 42,
      "metadata": {
        "id": "1hZcIS6l74LM"
      },
      "outputs": [],
      "source": [
        "my_exp = 'RELATIONAL'\n",
        "my_regions = [*range(360)]"
      ]
    },
    {
      "cell_type": "code",
      "execution_count": 43,
      "metadata": {
        "id": "PEEYVVyX74LM"
      },
      "outputs": [],
      "source": [
        "HCP_DATA_FRAME = pd.read_excel(\"/content/HCP Behavioral 2.0.xlsx\")"
      ]
    },
    {
      "cell_type": "code",
      "execution_count": 44,
      "metadata": {
        "id": "MSamwONB74LM"
      },
      "outputs": [],
      "source": [
        "new_df = HCP_DATA_FRAME[['Subject','Age', 'Gender', 'PMAT24_A_CR']]\n",
        "new_df.to_csv(\"HCP_DATA_FILTERED.csv\", index = False)"
      ]
    },
    {
      "cell_type": "code",
      "source": [
        "new_df['Age'].unique()"
      ],
      "metadata": {
        "colab": {
          "base_uri": "https://localhost:8080/"
        },
        "id": "RMBOt_PJDllG",
        "outputId": "f59a22f8-5910-45d9-b1e9-d8b88c464184"
      },
      "execution_count": 81,
      "outputs": [
        {
          "output_type": "execute_result",
          "data": {
            "text/plain": [
              "array(['26-30', '31-35', '22-25', '36+'], dtype=object)"
            ]
          },
          "metadata": {},
          "execution_count": 81
        }
      ]
    },
    {
      "cell_type": "code",
      "execution_count": 82,
      "metadata": {
        "id": "G88uEQ8674LN"
      },
      "outputs": [],
      "source": [
        "def transform_group(age):\n",
        "    if age == '22-25':\n",
        "        return 1\n",
        "\n",
        "    if age == '26-30':\n",
        "        return 2\n",
        "\n",
        "    if age == '31-35':\n",
        "        return 3\n",
        "\n",
        "    if age == '36+':\n",
        "        return 4\n",
        "\n"
      ]
    },
    {
      "cell_type": "markdown",
      "metadata": {
        "id": "XTPwIk1S74LN"
      },
      "source": [
        "### Visualize some of the data"
      ]
    },
    {
      "cell_type": "code",
      "execution_count": 46,
      "metadata": {
        "colab": {
          "base_uri": "https://localhost:8080/",
          "height": 641
        },
        "id": "oRs6MtC074LN",
        "outputId": "e833856c-3db2-44f1-b480-919f0ccfd593"
      },
      "outputs": [
        {
          "output_type": "stream",
          "name": "stdout",
          "text": [
            "(360, 232)\n",
            "[[array([36, 37, 38, 39, 40, 41, 42, 43, 44, 45, 46, 47, 48, 49, 50, 51, 52,\n",
            "       53, 54, 55, 56, 57, 58]), array([ 84,  85,  86,  87,  88,  89,  90,  91,  92,  93,  94,  95,  96,\n",
            "        97,  98,  99, 100, 101, 102, 103, 104, 105, 106]), array([158, 159, 160, 161, 162, 163, 164, 165, 166, 167, 168, 169, 170,\n",
            "       171, 172, 173, 174, 175, 176, 177, 178, 179, 180])], [array([11, 12, 13, 14, 15, 16, 17, 18, 19, 20, 21, 22, 23, 24, 25, 26, 27,\n",
            "       28, 29, 30, 31, 32, 33]), array([110, 111, 112, 113, 114, 115, 116, 117, 118, 119, 120, 121, 122,\n",
            "       123, 124, 125, 126, 127, 128, 129, 130, 131, 132]), array([184, 185, 186, 187, 188, 189, 190, 191, 192, 193, 194, 195, 196,\n",
            "       197, 198, 199, 200, 201, 202, 203, 204, 205, 206])]]\n",
            "2\n",
            "3\n",
            "(360, 23)\n"
          ]
        },
        {
          "output_type": "display_data",
          "data": {
            "text/plain": [
              "<Figure size 640x480 with 4 Axes>"
            ],
            "image/png": "[encoded data removed]"
          },
          "metadata": {}
        }
      ],
      "source": [
        "print(data.shape)\n",
        "print(evs)\n",
        "print(len(evs))\n",
        "print(len(evs[0]))\n",
        "\n",
        "print(data[:,evs[0][0]].shape)\n",
        "\n",
        "fig, axs = plt.subplots(2, 2)\n",
        "axs[0, 0].plot(data[[164, 344],:][:,evs[0][0]].T)\n",
        "axs[0, 1].plot(data[[164, 344],:][:,evs[0][1]].T)\n",
        "axs[1, 0].plot(data[[164, 344],:][:,evs[1][0]].T)\n",
        "axs[1, 1].plot(data[[164, 344],:][:,evs[1][1]].T)\n",
        "plt.show()"
      ]
    },
    {
      "cell_type": "code",
      "execution_count": 83,
      "metadata": {
        "id": "t5r5SJe474LN"
      },
      "outputs": [],
      "source": [
        "def load_data(my_exp , my_regions):\n",
        "\n",
        "  HCP_data_frame = pd.read_csv(\"HCP_DATA_FILTERED.csv\")\n",
        "  HCP_data_frame['age_group'] = HCP_data_frame['Age'].apply(transform_group)\n",
        "\n",
        "  steps = int(10/TR+.5)    # calculating stpes for 10 seconds\n",
        "\n",
        "  # las ROI's\n",
        "  timeseries_list = []\n",
        "  # relmatch\n",
        "  relmatch_list = [] # relation or match\n",
        "\n",
        "  # age\n",
        "  age_list = []\n",
        "  # IQ\n",
        "  fluid_intelligence_list = []\n",
        "  # gender\n",
        "  Gender_list = []\n",
        "\n",
        "  order = torch.randperm(100).numpy()\n",
        "  for i in order:     # subject\n",
        "    for r in range(2):     # run\n",
        "\n",
        "      data = load_single_timeseries(subject=subjects[i],\n",
        "                                    experiment=my_exp,\n",
        "                                    run=r,\n",
        "                                    remove_mean=True)\n",
        "\n",
        "      # Normalizing data by subject\n",
        "      timeseries = (data - data.mean()) / data.std()\n",
        "\n",
        "      # get the evs plus 10 seconds of the time series before and after (14 steps for tr=.76)\n",
        "      evs = load_evs(subject=subjects[i], experiment=my_exp, run=r)\n",
        "\n",
        "      for c in range(2):   # condition\n",
        "        for t in range(2): # block\n",
        "          evs_index = np.hstack((\n",
        "            np.arange(evs[c][t][0]-steps,evs[c][t][0]),\n",
        "            np.array(evs[c][t]),\n",
        "            np.arange((evs[c][t][-1]+1),(evs[c][t][-1]+1+steps))\n",
        "          ))\n",
        "\n",
        "          # (N, L, H_in)\n",
        "\n",
        "          timeseries_list.append(timeseries[my_regions,:][:,evs_index].T)\n",
        "          relmatch_list.append(c)\n",
        "          ## control variables\n",
        "          filtered = HCP_data_frame[HCP_data_frame['Subject'] == int(subjects[i])]\n",
        "          if len(filtered) > 0:\n",
        "            age_list.append(HCP_data_frame[HCP_data_frame['Subject']==int(subjects[i])]['age_group'])\n",
        "            fluid_intelligence_list.append(HCP_data_frame[HCP_data_frame['Subject']==int(subjects[i])]['PMAT24_A_CR'])\n",
        "            Gender_list.append(1 if HCP_data_frame[HCP_data_frame['Subject']==int(subjects[i])]['Gender'].item()=='F' else 0)\n",
        "          # else:\n",
        "          #   age_list.append(None)\n",
        "          #   fluid_intelligence_list.append(None)\n",
        "          #   Gender_list.append(None)\n",
        "\n",
        "\n",
        "  #print(age_list)\n",
        "  return (\n",
        "      torch.tensor(np.array(timeseries_list)),\n",
        "      torch.tensor(np.array(relmatch_list)),\n",
        "      torch.tensor(np.array(age_list)),#.squeeze(1),\n",
        "      torch.tensor(np.array(fluid_intelligence_list)).squeeze(1),\n",
        "      torch.tensor(np.array(Gender_list))\n",
        "  )"
      ]
    },
    {
      "cell_type": "code",
      "execution_count": 84,
      "metadata": {
        "id": "UZbZe4Km74LO"
      },
      "outputs": [],
      "source": [
        "experiment='RELATIONAL'\n",
        "regions = [*range(360)]\n",
        "X = load_data(experiment, regions)"
      ]
    },
    {
      "cell_type": "code",
      "source": [
        "X[4]"
      ],
      "metadata": {
        "colab": {
          "base_uri": "https://localhost:8080/"
        },
        "id": "_8xoqXEu9vDd",
        "outputId": "63180a53-bda6-485f-bdee-8a276f68daf8"
      },
      "execution_count": 91,
      "outputs": [
        {
          "output_type": "execute_result",
          "data": {
            "text/plain": [
              "tensor([1, 1, 1, 1, 1, 1, 1, 1, 1, 1, 1, 1, 1, 1, 1, 1, 1, 1, 1, 1, 1, 1, 1, 1,\n",
              "        1, 1, 1, 1, 1, 1, 1, 1, 1, 1, 1, 1, 1, 1, 1, 1, 0, 0, 0, 0, 0, 0, 0, 0,\n",
              "        0, 0, 0, 0, 0, 0, 0, 0, 1, 1, 1, 1, 1, 1, 1, 1, 0, 0, 0, 0, 0, 0, 0, 0,\n",
              "        1, 1, 1, 1, 1, 1, 1, 1, 1, 1, 1, 1, 1, 1, 1, 1, 1, 1, 1, 1, 1, 1, 1, 1,\n",
              "        1, 1, 1, 1, 1, 1, 1, 1, 0, 0, 0, 0, 0, 0, 0, 0, 1, 1, 1, 1, 1, 1, 1, 1,\n",
              "        1, 1, 1, 1, 1, 1, 1, 1, 1, 1, 1, 1, 1, 1, 1, 1, 0, 0, 0, 0, 0, 0, 0, 0,\n",
              "        1, 1, 1, 1, 1, 1, 1, 1, 0, 0, 0, 0, 0, 0, 0, 0, 1, 1, 1, 1, 1, 1, 1, 1,\n",
              "        1, 1, 1, 1, 1, 1, 1, 1, 0, 0, 0, 0, 0, 0, 0, 0, 0, 0, 0, 0, 0, 0, 0, 0,\n",
              "        0, 0, 0, 0, 0, 0, 0, 0, 0, 0, 0, 0, 0, 0, 0, 0, 1, 1, 1, 1, 1, 1, 1, 1,\n",
              "        0, 0, 0, 0, 0, 0, 0, 0, 1, 1, 1, 1, 1, 1, 1, 1, 0, 0, 0, 0, 0, 0, 0, 0,\n",
              "        1, 1, 1, 1, 1, 1, 1, 1, 0, 0, 0, 0, 0, 0, 0, 0, 1, 1, 1, 1, 1, 1, 1, 1,\n",
              "        0, 0, 0, 0, 0, 0, 0, 0, 1, 1, 1, 1, 1, 1, 1, 1])"
            ]
          },
          "metadata": {},
          "execution_count": 91
        }
      ]
    },
    {
      "cell_type": "code",
      "execution_count": 50,
      "metadata": {
        "colab": {
          "base_uri": "https://localhost:8080/"
        },
        "id": "6aPOqarP74LO",
        "outputId": "371f900e-1cdb-4f10-ce39-041c039390c1"
      },
      "outputs": [
        {
          "output_type": "stream",
          "name": "stdout",
          "text": [
            "Empty DataFrame\n",
            "Columns: [Subject, Release, Acquisition, Gender, Age, 3T_Full_MR_Compl, T1_Count, T2_Count, 3T_RS-fMRI_Count, 3T_RS-fMRI_PctCompl, 3T_Full_Task_fMRI, 3T_tMRI_PctCompl, fMRI_WM_PctCompl, fMRI_Gamb_PctCompl, fMRI_Mot_PctCompl, fMRI_Lang_PctCompl, fMRI_Soc_PctCompl, fMRI_Rel_PctCompl, fMRI_Emo_PctCompl, 3T_dMRI_Compl, 3T_dMRI_PctCompl, dMRI_3T_ReconVrs, fMRI_3T_ReconVrs, 7T_Full_MR_Compl, 7T_RS-fMRI_Count, 7T_RS-fMRI_PctCompl, 7T_Full_Task_fMRI, 7T_tMRI_PctCompl, fMRI_Movie_Compl, fMRI_Movie_PctCompl, fMRI_Ret_Compl, fMRI_Ret_PctCompl, 7T_dMRI_Compl, 7T_dMRI_PctCompl, 7T_fMRI_Mov_Vrs, MEG_AnyData, MEG_FullProt_Compl, MEG_HeadModel_Avail, MEG_CortRibn_Avail, MEG_Anatomy_Avail, MEG_Anatomy_Compl, MEG_Noise_Avail, MEG_Noise_Compl, MEG_RS_Avail, MEG_RS_Compl, MEG_WM_Avail, MEG_WM_Compl, MEG_StoryMath_Avail, MEG_StoryMath_Compl, MEG_Motor_Avail, MEG_Motor_Compl, Non-TB_Compl, VisProc_Compl, DelDisc_Compl, SCPT_Compl, IWRD_Compl, PMAT_Compl, VSPLOT_Compl, EmoRecog_Compl, NEO-FFI_Compl, ASR-Syn_Compl, ASR-DSM_Compl, Toolbox_Compl, MMSE_Compl, PSQI_Compl, Alert_Compl, ASQ_Compl, FamPsychNeuro_Compl, SSAGA_Compl, SSAGA_Demo_Compl, SSAGA_Mental_Compl, SSAGA_Alc_Compl, SSAGA_Illicit_Compl, SSAGA_Tob_Compl, SSAGA_Mj_Compl, QC_Issue, MRsession_Scanner_3T, MRsession_Scans_3T, MRsession_Label_3T, MRsession_Scanner_7T, MRsession_Scans_7T, MRsession_Label_7T, MEGsession_Scanner, MEGsession_Scans, MEGsession_Label, Alpha_Peak, Beta_Peak, MMSE_Score, PSQI_Score, PSQI_Comp1, PSQI_Comp2, PSQI_Comp3, PSQI_Comp4, PSQI_Comp5, PSQI_Comp6, PSQI_Comp7, PSQI_BedTime, PSQI_Min2Asleep, PSQI_GetUpTime, PSQI_AmtSleep, ...]\n",
            "Index: []\n",
            "\n",
            "[0 rows x 383 columns]\n"
          ]
        }
      ],
      "source": [
        "i = 0\n",
        "HCP_data_frame = HCP_DATA_FRAME\n",
        "print(HCP_data_frame[HCP_data_frame['Subject'] == subjects[i]])"
      ]
    },
    {
      "cell_type": "code",
      "execution_count": null,
      "metadata": {
        "id": "1Cg5CYZT74LO",
        "outputId": "4220cc18-d091-4b3c-ed6b-a4ce9463cd11"
      },
      "outputs": [
        {
          "data": {
            "text/plain": [
              "0      100206\n",
              "1      100610\n",
              "2      101006\n",
              "3      101309\n",
              "4      101915\n",
              "        ...  \n",
              "334    966975\n",
              "335    984472\n",
              "336    987983\n",
              "337    993675\n",
              "338    994273\n",
              "Name: Subject, Length: 339, dtype: int64"
            ]
          },
          "execution_count": 31,
          "metadata": {},
          "output_type": "execute_result"
        }
      ],
      "source": [
        "HCP_DATA_FRAME['Subject']"
      ]
    },
    {
      "cell_type": "code",
      "execution_count": 34,
      "metadata": {
        "colab": {
          "base_uri": "https://localhost:8080/"
        },
        "id": "c3kRhn_y74LP",
        "outputId": "ff17e602-7d56-441d-d180-9bd2269251e1"
      },
      "outputs": [
        {
          "output_type": "execute_result",
          "data": {
            "text/plain": [
              "torch.Size"
            ]
          },
          "metadata": {},
          "execution_count": 34
        }
      ],
      "source": [
        "type(X[0].shape)"
      ]
    },
    {
      "cell_type": "code",
      "source": [
        "labels ="
      ],
      "metadata": {
        "colab": {
          "base_uri": "https://localhost:8080/",
          "height": 359
        },
        "id": "m5RSudGCB3kq",
        "outputId": "e04d1091-34a9-45dd-8011-7f01fcfd01a1"
      },
      "execution_count": 68,
      "outputs": [
        {
          "output_type": "execute_result",
          "data": {
            "text/plain": [
              "   Subject Release Acquisition Gender    Age  3T_Full_MR_Compl  T1_Count  \\\n",
              "0   100206    S900         Q11      M  26-30              True         1   \n",
              "1   100610    S900         Q08      M  26-30              True         2   \n",
              "2   101006    S500         Q06      F  31-35              True         2   \n",
              "3   101309    S500         Q06      M  26-30              True         1   \n",
              "4   101915      Q3         Q04      F  31-35              True         2   \n",
              "\n",
              "   T2_Count  3T_RS-fMRI_Count  3T_RS-fMRI_PctCompl  ...  Noise_Comp  \\\n",
              "0         1                 4                  100  ...         6.0   \n",
              "1         1                 4                  100  ...         2.0   \n",
              "2         2                 4                  100  ...         6.0   \n",
              "3         1                 4                  100  ...         5.2   \n",
              "4         2                 4                  100  ...         4.4   \n",
              "\n",
              "   Odor_Unadj  Odor_AgeAdj  PainIntens_RawScore  PainInterf_Tscore  \\\n",
              "0      108.79        97.19                  1.0               49.7   \n",
              "1      122.25       110.45                  0.0               38.6   \n",
              "2      122.25       111.41                  0.0               38.6   \n",
              "3      122.25       110.45                  0.0               38.6   \n",
              "4       96.87        77.61                  0.0               38.6   \n",
              "\n",
              "   Taste_Unadj  Taste_AgeAdj  Mars_Log_Score  Mars_Errs  Mars_Final  \n",
              "0        72.63         72.03            1.84        0.0        1.84  \n",
              "1        84.84         85.31            1.92        1.0        1.88  \n",
              "2       123.80        123.31            1.80        0.0        1.80  \n",
              "3       106.39        104.39            1.80        0.0        1.80  \n",
              "4       112.11        111.70            1.84        1.0        1.80  \n",
              "\n",
              "[5 rows x 383 columns]"
            ],
            "text/html": [
              "\n",
              "  <div id=\"df-bb3d8722-a07a-47bd-9d11-8c01d605fdbb\" class=\"colab-df-container\">\n",
              "    <div>\n",
              "<style scoped>\n",
              "    .dataframe tbody tr th:only-of-type {\n",
              "        vertical-align: middle;\n",
              "    }\n",
              "\n",
              "    .dataframe tbody tr th {\n",
              "        vertical-align: top;\n",
              "    }\n",
              "\n",
              "    .dataframe thead th {\n",
              "        text-align: right;\n",
              "    }\n",
              "</style>\n",
              "<table border=\"1\" class=\"dataframe\">\n",
              "  <thead>\n",
              "    <tr style=\"text-align: right;\">\n",
              "      <th></th>\n",
              "      <th>Subject</th>\n",
              "      <th>Release</th>\n",
              "      <th>Acquisition</th>\n",
              "      <th>Gender</th>\n",
              "      <th>Age</th>\n",
              "      <th>3T_Full_MR_Compl</th>\n",
              "      <th>T1_Count</th>\n",
              "      <th>T2_Count</th>\n",
              "      <th>3T_RS-fMRI_Count</th>\n",
              "      <th>3T_RS-fMRI_PctCompl</th>\n",
              "      <th>...</th>\n",
              "      <th>Noise_Comp</th>\n",
              "      <th>Odor_Unadj</th>\n",
              "      <th>Odor_AgeAdj</th>\n",
              "      <th>PainIntens_RawScore</th>\n",
              "      <th>PainInterf_Tscore</th>\n",
              "      <th>Taste_Unadj</th>\n",
              "      <th>Taste_AgeAdj</th>\n",
              "      <th>Mars_Log_Score</th>\n",
              "      <th>Mars_Errs</th>\n",
              "      <th>Mars_Final</th>\n",
              "    </tr>\n",
              "  </thead>\n",
              "  <tbody>\n",
              "    <tr>\n",
              "      <th>0</th>\n",
              "      <td>100206</td>\n",
              "      <td>S900</td>\n",
              "      <td>Q11</td>\n",
              "      <td>M</td>\n",
              "      <td>26-30</td>\n",
              "      <td>True</td>\n",
              "      <td>1</td>\n",
              "      <td>1</td>\n",
              "      <td>4</td>\n",
              "      <td>100</td>\n",
              "      <td>...</td>\n",
              "      <td>6.0</td>\n",
              "      <td>108.79</td>\n",
              "      <td>97.19</td>\n",
              "      <td>1.0</td>\n",
              "      <td>49.7</td>\n",
              "      <td>72.63</td>\n",
              "      <td>72.03</td>\n",
              "      <td>1.84</td>\n",
              "      <td>0.0</td>\n",
              "      <td>1.84</td>\n",
              "    </tr>\n",
              "    <tr>\n",
              "      <th>1</th>\n",
              "      <td>100610</td>\n",
              "      <td>S900</td>\n",
              "      <td>Q08</td>\n",
              "      <td>M</td>\n",
              "      <td>26-30</td>\n",
              "      <td>True</td>\n",
              "      <td>2</td>\n",
              "      <td>1</td>\n",
              "      <td>4</td>\n",
              "      <td>100</td>\n",
              "      <td>...</td>\n",
              "      <td>2.0</td>\n",
              "      <td>122.25</td>\n",
              "      <td>110.45</td>\n",
              "      <td>0.0</td>\n",
              "      <td>38.6</td>\n",
              "      <td>84.84</td>\n",
              "      <td>85.31</td>\n",
              "      <td>1.92</td>\n",
              "      <td>1.0</td>\n",
              "      <td>1.88</td>\n",
              "    </tr>\n",
              "    <tr>\n",
              "      <th>2</th>\n",
              "      <td>101006</td>\n",
              "      <td>S500</td>\n",
              "      <td>Q06</td>\n",
              "      <td>F</td>\n",
              "      <td>31-35</td>\n",
              "      <td>True</td>\n",
              "      <td>2</td>\n",
              "      <td>2</td>\n",
              "      <td>4</td>\n",
              "      <td>100</td>\n",
              "      <td>...</td>\n",
              "      <td>6.0</td>\n",
              "      <td>122.25</td>\n",
              "      <td>111.41</td>\n",
              "      <td>0.0</td>\n",
              "      <td>38.6</td>\n",
              "      <td>123.80</td>\n",
              "      <td>123.31</td>\n",
              "      <td>1.80</td>\n",
              "      <td>0.0</td>\n",
              "      <td>1.80</td>\n",
              "    </tr>\n",
              "    <tr>\n",
              "      <th>3</th>\n",
              "      <td>101309</td>\n",
              "      <td>S500</td>\n",
              "      <td>Q06</td>\n",
              "      <td>M</td>\n",
              "      <td>26-30</td>\n",
              "      <td>True</td>\n",
              "      <td>1</td>\n",
              "      <td>1</td>\n",
              "      <td>4</td>\n",
              "      <td>100</td>\n",
              "      <td>...</td>\n",
              "      <td>5.2</td>\n",
              "      <td>122.25</td>\n",
              "      <td>110.45</td>\n",
              "      <td>0.0</td>\n",
              "      <td>38.6</td>\n",
              "      <td>106.39</td>\n",
              "      <td>104.39</td>\n",
              "      <td>1.80</td>\n",
              "      <td>0.0</td>\n",
              "      <td>1.80</td>\n",
              "    </tr>\n",
              "    <tr>\n",
              "      <th>4</th>\n",
              "      <td>101915</td>\n",
              "      <td>Q3</td>\n",
              "      <td>Q04</td>\n",
              "      <td>F</td>\n",
              "      <td>31-35</td>\n",
              "      <td>True</td>\n",
              "      <td>2</td>\n",
              "      <td>2</td>\n",
              "      <td>4</td>\n",
              "      <td>100</td>\n",
              "      <td>...</td>\n",
              "      <td>4.4</td>\n",
              "      <td>96.87</td>\n",
              "      <td>77.61</td>\n",
              "      <td>0.0</td>\n",
              "      <td>38.6</td>\n",
              "      <td>112.11</td>\n",
              "      <td>111.70</td>\n",
              "      <td>1.84</td>\n",
              "      <td>1.0</td>\n",
              "      <td>1.80</td>\n",
              "    </tr>\n",
              "  </tbody>\n",
              "</table>\n",
              "<p>5 rows × 383 columns</p>\n",
              "</div>\n",
              "    <div class=\"colab-df-buttons\">\n",
              "\n",
              "  <div class=\"colab-df-container\">\n",
              "    <button class=\"colab-df-convert\" onclick=\"convertToInteractive('df-bb3d8722-a07a-47bd-9d11-8c01d605fdbb')\"\n",
              "            title=\"Convert this dataframe to an interactive table.\"\n",
              "            style=\"display:none;\">\n",
              "\n",
              "  <svg xmlns=\"http://www.w3.org/2000/svg\" height=\"24px\" viewBox=\"0 -960 960 960\">\n",
              "    <path d=\"M120-120v-720h720v720H120Zm60-500h600v-160H180v160Zm220 220h160v-160H400v160Zm0 220h160v-160H400v160ZM180-400h160v-160H180v160Zm440 0h160v-160H620v160ZM180-180h160v-160H180v160Zm440 0h160v-160H620v160Z\"/>\n",
              "  </svg>\n",
              "    </button>\n",
              "\n",
              "  <style>\n",
              "    .colab-df-container {\n",
              "      display:flex;\n",
              "      gap: 12px;\n",
              "    }\n",
              "\n",
              "    .colab-df-convert {\n",
              "      background-color: #E8F0FE;\n",
              "      border: none;\n",
              "      border-radius: 50%;\n",
              "      cursor: pointer;\n",
              "      display: none;\n",
              "      fill: #1967D2;\n",
              "      height: 32px;\n",
              "      padding: 0 0 0 0;\n",
              "      width: 32px;\n",
              "    }\n",
              "\n",
              "    .colab-df-convert:hover {\n",
              "      background-color: #E2EBFA;\n",
              "      box-shadow: 0px 1px 2px rgba(60, 64, 67, 0.3), 0px 1px 3px 1px rgba(60, 64, 67, 0.15);\n",
              "      fill: #174EA6;\n",
              "    }\n",
              "\n",
              "    .colab-df-buttons div {\n",
              "      margin-bottom: 4px;\n",
              "    }\n",
              "\n",
              "    [theme=dark] .colab-df-convert {\n",
              "      background-color: #3B4455;\n",
              "      fill: #D2E3FC;\n",
              "    }\n",
              "\n",
              "    [theme=dark] .colab-df-convert:hover {\n",
              "      background-color: #434B5C;\n",
              "      box-shadow: 0px 1px 3px 1px rgba(0, 0, 0, 0.15);\n",
              "      filter: drop-shadow(0px 1px 2px rgba(0, 0, 0, 0.3));\n",
              "      fill: #FFFFFF;\n",
              "    }\n",
              "  </style>\n",
              "\n",
              "    <script>\n",
              "      const buttonEl =\n",
              "        document.querySelector('#df-bb3d8722-a07a-47bd-9d11-8c01d605fdbb button.colab-df-convert');\n",
              "      buttonEl.style.display =\n",
              "        google.colab.kernel.accessAllowed ? 'block' : 'none';\n",
              "\n",
              "      async function convertToInteractive(key) {\n",
              "        const element = document.querySelector('#df-bb3d8722-a07a-47bd-9d11-8c01d605fdbb');\n",
              "        const dataTable =\n",
              "          await google.colab.kernel.invokeFunction('convertToInteractive',\n",
              "                                                    [key], {});\n",
              "        if (!dataTable) return;\n",
              "\n",
              "        const docLinkHtml = 'Like what you see? Visit the ' +\n",
              "          '<a target=\"_blank\" href=https://colab.research.google.com/notebooks/data_table.ipynb>data table notebook</a>'\n",
              "          + ' to learn more about interactive tables.';\n",
              "        element.innerHTML = '';\n",
              "        dataTable['output_type'] = 'display_data';\n",
              "        await google.colab.output.renderOutput(dataTable, element);\n",
              "        const docLink = document.createElement('div');\n",
              "        docLink.innerHTML = docLinkHtml;\n",
              "        element.appendChild(docLink);\n",
              "      }\n",
              "    </script>\n",
              "  </div>\n",
              "\n",
              "\n",
              "<div id=\"df-2fcb814f-810c-4926-aadd-d61d087e0403\">\n",
              "  <button class=\"colab-df-quickchart\" onclick=\"quickchart('df-2fcb814f-810c-4926-aadd-d61d087e0403')\"\n",
              "            title=\"Suggest charts\"\n",
              "            style=\"display:none;\">\n",
              "\n",
              "<svg xmlns=\"http://www.w3.org/2000/svg\" height=\"24px\"viewBox=\"0 0 24 24\"\n",
              "     width=\"24px\">\n",
              "    <g>\n",
              "        <path d=\"M19 3H5c-1.1 0-2 .9-2 2v14c0 1.1.9 2 2 2h14c1.1 0 2-.9 2-2V5c0-1.1-.9-2-2-2zM9 17H7v-7h2v7zm4 0h-2V7h2v10zm4 0h-2v-4h2v4z\"/>\n",
              "    </g>\n",
              "</svg>\n",
              "  </button>\n",
              "\n",
              "<style>\n",
              "  .colab-df-quickchart {\n",
              "      --bg-color: #E8F0FE;\n",
              "      --fill-color: #1967D2;\n",
              "      --hover-bg-color: #E2EBFA;\n",
              "      --hover-fill-color: #174EA6;\n",
              "      --disabled-fill-color: #AAA;\n",
              "      --disabled-bg-color: #DDD;\n",
              "  }\n",
              "\n",
              "  [theme=dark] .colab-df-quickchart {\n",
              "      --bg-color: #3B4455;\n",
              "      --fill-color: #D2E3FC;\n",
              "      --hover-bg-color: #434B5C;\n",
              "      --hover-fill-color: #FFFFFF;\n",
              "      --disabled-bg-color: #3B4455;\n",
              "      --disabled-fill-color: #666;\n",
              "  }\n",
              "\n",
              "  .colab-df-quickchart {\n",
              "    background-color: var(--bg-color);\n",
              "    border: none;\n",
              "    border-radius: 50%;\n",
              "    cursor: pointer;\n",
              "    display: none;\n",
              "    fill: var(--fill-color);\n",
              "    height: 32px;\n",
              "    padding: 0;\n",
              "    width: 32px;\n",
              "  }\n",
              "\n",
              "  .colab-df-quickchart:hover {\n",
              "    background-color: var(--hover-bg-color);\n",
              "    box-shadow: 0 1px 2px rgba(60, 64, 67, 0.3), 0 1px 3px 1px rgba(60, 64, 67, 0.15);\n",
              "    fill: var(--button-hover-fill-color);\n",
              "  }\n",
              "\n",
              "  .colab-df-quickchart-complete:disabled,\n",
              "  .colab-df-quickchart-complete:disabled:hover {\n",
              "    background-color: var(--disabled-bg-color);\n",
              "    fill: var(--disabled-fill-color);\n",
              "    box-shadow: none;\n",
              "  }\n",
              "\n",
              "  .colab-df-spinner {\n",
              "    border: 2px solid var(--fill-color);\n",
              "    border-color: transparent;\n",
              "    border-bottom-color: var(--fill-color);\n",
              "    animation:\n",
              "      spin 1s steps(1) infinite;\n",
              "  }\n",
              "\n",
              "  @keyframes spin {\n",
              "    0% {\n",
              "      border-color: transparent;\n",
              "      border-bottom-color: var(--fill-color);\n",
              "      border-left-color: var(--fill-color);\n",
              "    }\n",
              "    20% {\n",
              "      border-color: transparent;\n",
              "      border-left-color: var(--fill-color);\n",
              "      border-top-color: var(--fill-color);\n",
              "    }\n",
              "    30% {\n",
              "      border-color: transparent;\n",
              "      border-left-color: var(--fill-color);\n",
              "      border-top-color: var(--fill-color);\n",
              "      border-right-color: var(--fill-color);\n",
              "    }\n",
              "    40% {\n",
              "      border-color: transparent;\n",
              "      border-right-color: var(--fill-color);\n",
              "      border-top-color: var(--fill-color);\n",
              "    }\n",
              "    60% {\n",
              "      border-color: transparent;\n",
              "      border-right-color: var(--fill-color);\n",
              "    }\n",
              "    80% {\n",
              "      border-color: transparent;\n",
              "      border-right-color: var(--fill-color);\n",
              "      border-bottom-color: var(--fill-color);\n",
              "    }\n",
              "    90% {\n",
              "      border-color: transparent;\n",
              "      border-bottom-color: var(--fill-color);\n",
              "    }\n",
              "  }\n",
              "</style>\n",
              "\n",
              "  <script>\n",
              "    async function quickchart(key) {\n",
              "      const quickchartButtonEl =\n",
              "        document.querySelector('#' + key + ' button');\n",
              "      quickchartButtonEl.disabled = true;  // To prevent multiple clicks.\n",
              "      quickchartButtonEl.classList.add('colab-df-spinner');\n",
              "      try {\n",
              "        const charts = await google.colab.kernel.invokeFunction(\n",
              "            'suggestCharts', [key], {});\n",
              "      } catch (error) {\n",
              "        console.error('Error during call to suggestCharts:', error);\n",
              "      }\n",
              "      quickchartButtonEl.classList.remove('colab-df-spinner');\n",
              "      quickchartButtonEl.classList.add('colab-df-quickchart-complete');\n",
              "    }\n",
              "    (() => {\n",
              "      let quickchartButtonEl =\n",
              "        document.querySelector('#df-2fcb814f-810c-4926-aadd-d61d087e0403 button');\n",
              "      quickchartButtonEl.style.display =\n",
              "        google.colab.kernel.accessAllowed ? 'block' : 'none';\n",
              "    })();\n",
              "  </script>\n",
              "</div>\n",
              "\n",
              "    </div>\n",
              "  </div>\n"
            ],
            "application/vnd.google.colaboratory.intrinsic+json": {
              "type": "dataframe",
              "variable_name": "HCP_DATA_FRAME"
            }
          },
          "metadata": {},
          "execution_count": 68
        }
      ]
    },
    {
      "cell_type": "code",
      "source": [
        "# Convert to NumPy and save\n",
        "np.save(\"dataLSTM.npy\", X[0].numpy())\n",
        "\n",
        "# Load and convert back to PyTorch tensor\n",
        "loaded_tensor = torch.tensor(np.load(\"dataLSTM.npy\"))\n"
      ],
      "metadata": {
        "id": "yHAU7uBZ_MVg"
      },
      "execution_count": 66,
      "outputs": []
    },
    {
      "cell_type": "code",
      "source": [
        "loaded_tensor.shape"
      ],
      "metadata": {
        "colab": {
          "base_uri": "https://localhost:8080/"
        },
        "id": "rVu7skXbBpmQ",
        "outputId": "8ad1ef02-4bf9-4ed9-ff03-436f468e5f47"
      },
      "execution_count": 67,
      "outputs": [
        {
          "output_type": "execute_result",
          "data": {
            "text/plain": [
              "torch.Size([800, 51, 360])"
            ]
          },
          "metadata": {},
          "execution_count": 67
        }
      ]
    },
    {
      "cell_type": "code",
      "source": [
        "# Convert to NumPy and save\n",
        "np.save(\"rel_match_label.npy\", X[1].numpy())\n",
        "\n",
        "# Load and convert back to PyTorch tensor\n",
        "label1 = torch.tensor(np.load(\"rel_match_label.npy\"))"
      ],
      "metadata": {
        "id": "WkPZ8WbNBtdD"
      },
      "execution_count": 92,
      "outputs": []
    },
    {
      "cell_type": "code",
      "source": [
        "label1.shape"
      ],
      "metadata": {
        "colab": {
          "base_uri": "https://localhost:8080/"
        },
        "id": "MGXcEpOjEeQr",
        "outputId": "436990e0-3ea4-48f1-b30d-ad7512a3c928"
      },
      "execution_count": 94,
      "outputs": [
        {
          "output_type": "execute_result",
          "data": {
            "text/plain": [
              "torch.Size([800])"
            ]
          },
          "metadata": {},
          "execution_count": 94
        }
      ]
    },
    {
      "cell_type": "markdown",
      "source": [
        "Hacemos los labels un dataframe"
      ],
      "metadata": {
        "id": "XRZ3J94ZEcmz"
      }
    },
    {
      "cell_type": "code",
      "source": [
        "\n",
        "import pandas as pd\n",
        "\n",
        "\n",
        "# Stack the tensors into a single 2D tensor\n",
        "data = torch.stack([X[2].squeeze(), X[3], X[4]], dim=1)\n",
        "\n",
        "# Convert to a Pandas DataFrame\n",
        "df = pd.DataFrame(data.numpy(), columns=[\"age_group\", \"PMAT24_A_CR\", \"Gender\"])\n",
        "\n"
      ],
      "metadata": {
        "id": "UIcE76UAE0Ml"
      },
      "execution_count": 96,
      "outputs": []
    },
    {
      "cell_type": "code",
      "source": [
        "df"
      ],
      "metadata": {
        "colab": {
          "base_uri": "https://localhost:8080/",
          "height": 423
        },
        "id": "iOAuB9HfFQq7",
        "outputId": "c1c82786-35d3-4dbd-e2bd-5eb937ed5073"
      },
      "execution_count": 97,
      "outputs": [
        {
          "output_type": "execute_result",
          "data": {
            "text/plain": [
              "     age_group  PMAT24_A_CR  Gender\n",
              "0          3.0         18.0     1.0\n",
              "1          3.0         18.0     1.0\n",
              "2          3.0         18.0     1.0\n",
              "3          3.0         18.0     1.0\n",
              "4          3.0         18.0     1.0\n",
              "..         ...          ...     ...\n",
              "275        3.0         14.0     1.0\n",
              "276        3.0         14.0     1.0\n",
              "277        3.0         14.0     1.0\n",
              "278        3.0         14.0     1.0\n",
              "279        3.0         14.0     1.0\n",
              "\n",
              "[280 rows x 3 columns]"
            ],
            "text/html": [
              "\n",
              "  <div id=\"df-a0590f5b-4023-46ae-9f49-62d145d57575\" class=\"colab-df-container\">\n",
              "    <div>\n",
              "<style scoped>\n",
              "    .dataframe tbody tr th:only-of-type {\n",
              "        vertical-align: middle;\n",
              "    }\n",
              "\n",
              "    .dataframe tbody tr th {\n",
              "        vertical-align: top;\n",
              "    }\n",
              "\n",
              "    .dataframe thead th {\n",
              "        text-align: right;\n",
              "    }\n",
              "</style>\n",
              "<table border=\"1\" class=\"dataframe\">\n",
              "  <thead>\n",
              "    <tr style=\"text-align: right;\">\n",
              "      <th></th>\n",
              "      <th>age_group</th>\n",
              "      <th>PMAT24_A_CR</th>\n",
              "      <th>Gender</th>\n",
              "    </tr>\n",
              "  </thead>\n",
              "  <tbody>\n",
              "    <tr>\n",
              "      <th>0</th>\n",
              "      <td>3.0</td>\n",
              "      <td>18.0</td>\n",
              "      <td>1.0</td>\n",
              "    </tr>\n",
              "    <tr>\n",
              "      <th>1</th>\n",
              "      <td>3.0</td>\n",
              "      <td>18.0</td>\n",
              "      <td>1.0</td>\n",
              "    </tr>\n",
              "    <tr>\n",
              "      <th>2</th>\n",
              "      <td>3.0</td>\n",
              "      <td>18.0</td>\n",
              "      <td>1.0</td>\n",
              "    </tr>\n",
              "    <tr>\n",
              "      <th>3</th>\n",
              "      <td>3.0</td>\n",
              "      <td>18.0</td>\n",
              "      <td>1.0</td>\n",
              "    </tr>\n",
              "    <tr>\n",
              "      <th>4</th>\n",
              "      <td>3.0</td>\n",
              "      <td>18.0</td>\n",
              "      <td>1.0</td>\n",
              "    </tr>\n",
              "    <tr>\n",
              "      <th>...</th>\n",
              "      <td>...</td>\n",
              "      <td>...</td>\n",
              "      <td>...</td>\n",
              "    </tr>\n",
              "    <tr>\n",
              "      <th>275</th>\n",
              "      <td>3.0</td>\n",
              "      <td>14.0</td>\n",
              "      <td>1.0</td>\n",
              "    </tr>\n",
              "    <tr>\n",
              "      <th>276</th>\n",
              "      <td>3.0</td>\n",
              "      <td>14.0</td>\n",
              "      <td>1.0</td>\n",
              "    </tr>\n",
              "    <tr>\n",
              "      <th>277</th>\n",
              "      <td>3.0</td>\n",
              "      <td>14.0</td>\n",
              "      <td>1.0</td>\n",
              "    </tr>\n",
              "    <tr>\n",
              "      <th>278</th>\n",
              "      <td>3.0</td>\n",
              "      <td>14.0</td>\n",
              "      <td>1.0</td>\n",
              "    </tr>\n",
              "    <tr>\n",
              "      <th>279</th>\n",
              "      <td>3.0</td>\n",
              "      <td>14.0</td>\n",
              "      <td>1.0</td>\n",
              "    </tr>\n",
              "  </tbody>\n",
              "</table>\n",
              "<p>280 rows × 3 columns</p>\n",
              "</div>\n",
              "    <div class=\"colab-df-buttons\">\n",
              "\n",
              "  <div class=\"colab-df-container\">\n",
              "    <button class=\"colab-df-convert\" onclick=\"convertToInteractive('df-a0590f5b-4023-46ae-9f49-62d145d57575')\"\n",
              "            title=\"Convert this dataframe to an interactive table.\"\n",
              "            style=\"display:none;\">\n",
              "\n",
              "  <svg xmlns=\"http://www.w3.org/2000/svg\" height=\"24px\" viewBox=\"0 -960 960 960\">\n",
              "    <path d=\"M120-120v-720h720v720H120Zm60-500h600v-160H180v160Zm220 220h160v-160H400v160Zm0 220h160v-160H400v160ZM180-400h160v-160H180v160Zm440 0h160v-160H620v160ZM180-180h160v-160H180v160Zm440 0h160v-160H620v160Z\"/>\n",
              "  </svg>\n",
              "    </button>\n",
              "\n",
              "  <style>\n",
              "    .colab-df-container {\n",
              "      display:flex;\n",
              "      gap: 12px;\n",
              "    }\n",
              "\n",
              "    .colab-df-convert {\n",
              "      background-color: #E8F0FE;\n",
              "      border: none;\n",
              "      border-radius: 50%;\n",
              "      cursor: pointer;\n",
              "      display: none;\n",
              "      fill: #1967D2;\n",
              "      height: 32px;\n",
              "      padding: 0 0 0 0;\n",
              "      width: 32px;\n",
              "    }\n",
              "\n",
              "    .colab-df-convert:hover {\n",
              "      background-color: #E2EBFA;\n",
              "      box-shadow: 0px 1px 2px rgba(60, 64, 67, 0.3), 0px 1px 3px 1px rgba(60, 64, 67, 0.15);\n",
              "      fill: #174EA6;\n",
              "    }\n",
              "\n",
              "    .colab-df-buttons div {\n",
              "      margin-bottom: 4px;\n",
              "    }\n",
              "\n",
              "    [theme=dark] .colab-df-convert {\n",
              "      background-color: #3B4455;\n",
              "      fill: #D2E3FC;\n",
              "    }\n",
              "\n",
              "    [theme=dark] .colab-df-convert:hover {\n",
              "      background-color: #434B5C;\n",
              "      box-shadow: 0px 1px 3px 1px rgba(0, 0, 0, 0.15);\n",
              "      filter: drop-shadow(0px 1px 2px rgba(0, 0, 0, 0.3));\n",
              "      fill: #FFFFFF;\n",
              "    }\n",
              "  </style>\n",
              "\n",
              "    <script>\n",
              "      const buttonEl =\n",
              "        document.querySelector('#df-a0590f5b-4023-46ae-9f49-62d145d57575 button.colab-df-convert');\n",
              "      buttonEl.style.display =\n",
              "        google.colab.kernel.accessAllowed ? 'block' : 'none';\n",
              "\n",
              "      async function convertToInteractive(key) {\n",
              "        const element = document.querySelector('#df-a0590f5b-4023-46ae-9f49-62d145d57575');\n",
              "        const dataTable =\n",
              "          await google.colab.kernel.invokeFunction('convertToInteractive',\n",
              "                                                    [key], {});\n",
              "        if (!dataTable) return;\n",
              "\n",
              "        const docLinkHtml = 'Like what you see? Visit the ' +\n",
              "          '<a target=\"_blank\" href=https://colab.research.google.com/notebooks/data_table.ipynb>data table notebook</a>'\n",
              "          + ' to learn more about interactive tables.';\n",
              "        element.innerHTML = '';\n",
              "        dataTable['output_type'] = 'display_data';\n",
              "        await google.colab.output.renderOutput(dataTable, element);\n",
              "        const docLink = document.createElement('div');\n",
              "        docLink.innerHTML = docLinkHtml;\n",
              "        element.appendChild(docLink);\n",
              "      }\n",
              "    </script>\n",
              "  </div>\n",
              "\n",
              "\n",
              "<div id=\"df-608e9595-30e2-4b93-af07-d0b1ac42697e\">\n",
              "  <button class=\"colab-df-quickchart\" onclick=\"quickchart('df-608e9595-30e2-4b93-af07-d0b1ac42697e')\"\n",
              "            title=\"Suggest charts\"\n",
              "            style=\"display:none;\">\n",
              "\n",
              "<svg xmlns=\"http://www.w3.org/2000/svg\" height=\"24px\"viewBox=\"0 0 24 24\"\n",
              "     width=\"24px\">\n",
              "    <g>\n",
              "        <path d=\"M19 3H5c-1.1 0-2 .9-2 2v14c0 1.1.9 2 2 2h14c1.1 0 2-.9 2-2V5c0-1.1-.9-2-2-2zM9 17H7v-7h2v7zm4 0h-2V7h2v10zm4 0h-2v-4h2v4z\"/>\n",
              "    </g>\n",
              "</svg>\n",
              "  </button>\n",
              "\n",
              "<style>\n",
              "  .colab-df-quickchart {\n",
              "      --bg-color: #E8F0FE;\n",
              "      --fill-color: #1967D2;\n",
              "      --hover-bg-color: #E2EBFA;\n",
              "      --hover-fill-color: #174EA6;\n",
              "      --disabled-fill-color: #AAA;\n",
              "      --disabled-bg-color: #DDD;\n",
              "  }\n",
              "\n",
              "  [theme=dark] .colab-df-quickchart {\n",
              "      --bg-color: #3B4455;\n",
              "      --fill-color: #D2E3FC;\n",
              "      --hover-bg-color: #434B5C;\n",
              "      --hover-fill-color: #FFFFFF;\n",
              "      --disabled-bg-color: #3B4455;\n",
              "      --disabled-fill-color: #666;\n",
              "  }\n",
              "\n",
              "  .colab-df-quickchart {\n",
              "    background-color: var(--bg-color);\n",
              "    border: none;\n",
              "    border-radius: 50%;\n",
              "    cursor: pointer;\n",
              "    display: none;\n",
              "    fill: var(--fill-color);\n",
              "    height: 32px;\n",
              "    padding: 0;\n",
              "    width: 32px;\n",
              "  }\n",
              "\n",
              "  .colab-df-quickchart:hover {\n",
              "    background-color: var(--hover-bg-color);\n",
              "    box-shadow: 0 1px 2px rgba(60, 64, 67, 0.3), 0 1px 3px 1px rgba(60, 64, 67, 0.15);\n",
              "    fill: var(--button-hover-fill-color);\n",
              "  }\n",
              "\n",
              "  .colab-df-quickchart-complete:disabled,\n",
              "  .colab-df-quickchart-complete:disabled:hover {\n",
              "    background-color: var(--disabled-bg-color);\n",
              "    fill: var(--disabled-fill-color);\n",
              "    box-shadow: none;\n",
              "  }\n",
              "\n",
              "  .colab-df-spinner {\n",
              "    border: 2px solid var(--fill-color);\n",
              "    border-color: transparent;\n",
              "    border-bottom-color: var(--fill-color);\n",
              "    animation:\n",
              "      spin 1s steps(1) infinite;\n",
              "  }\n",
              "\n",
              "  @keyframes spin {\n",
              "    0% {\n",
              "      border-color: transparent;\n",
              "      border-bottom-color: var(--fill-color);\n",
              "      border-left-color: var(--fill-color);\n",
              "    }\n",
              "    20% {\n",
              "      border-color: transparent;\n",
              "      border-left-color: var(--fill-color);\n",
              "      border-top-color: var(--fill-color);\n",
              "    }\n",
              "    30% {\n",
              "      border-color: transparent;\n",
              "      border-left-color: var(--fill-color);\n",
              "      border-top-color: var(--fill-color);\n",
              "      border-right-color: var(--fill-color);\n",
              "    }\n",
              "    40% {\n",
              "      border-color: transparent;\n",
              "      border-right-color: var(--fill-color);\n",
              "      border-top-color: var(--fill-color);\n",
              "    }\n",
              "    60% {\n",
              "      border-color: transparent;\n",
              "      border-right-color: var(--fill-color);\n",
              "    }\n",
              "    80% {\n",
              "      border-color: transparent;\n",
              "      border-right-color: var(--fill-color);\n",
              "      border-bottom-color: var(--fill-color);\n",
              "    }\n",
              "    90% {\n",
              "      border-color: transparent;\n",
              "      border-bottom-color: var(--fill-color);\n",
              "    }\n",
              "  }\n",
              "</style>\n",
              "\n",
              "  <script>\n",
              "    async function quickchart(key) {\n",
              "      const quickchartButtonEl =\n",
              "        document.querySelector('#' + key + ' button');\n",
              "      quickchartButtonEl.disabled = true;  // To prevent multiple clicks.\n",
              "      quickchartButtonEl.classList.add('colab-df-spinner');\n",
              "      try {\n",
              "        const charts = await google.colab.kernel.invokeFunction(\n",
              "            'suggestCharts', [key], {});\n",
              "      } catch (error) {\n",
              "        console.error('Error during call to suggestCharts:', error);\n",
              "      }\n",
              "      quickchartButtonEl.classList.remove('colab-df-spinner');\n",
              "      quickchartButtonEl.classList.add('colab-df-quickchart-complete');\n",
              "    }\n",
              "    (() => {\n",
              "      let quickchartButtonEl =\n",
              "        document.querySelector('#df-608e9595-30e2-4b93-af07-d0b1ac42697e button');\n",
              "      quickchartButtonEl.style.display =\n",
              "        google.colab.kernel.accessAllowed ? 'block' : 'none';\n",
              "    })();\n",
              "  </script>\n",
              "</div>\n",
              "\n",
              "  <div id=\"id_ebd698f5-cdfd-4fcf-a368-d85655d0cc54\">\n",
              "    <style>\n",
              "      .colab-df-generate {\n",
              "        background-color: #E8F0FE;\n",
              "        border: none;\n",
              "        border-radius: 50%;\n",
              "        cursor: pointer;\n",
              "        display: none;\n",
              "        fill: #1967D2;\n",
              "        height: 32px;\n",
              "        padding: 0 0 0 0;\n",
              "        width: 32px;\n",
              "      }\n",
              "\n",
              "      .colab-df-generate:hover {\n",
              "        background-color: #E2EBFA;\n",
              "        box-shadow: 0px 1px 2px rgba(60, 64, 67, 0.3), 0px 1px 3px 1px rgba(60, 64, 67, 0.15);\n",
              "        fill: #174EA6;\n",
              "      }\n",
              "\n",
              "      [theme=dark] .colab-df-generate {\n",
              "        background-color: #3B4455;\n",
              "        fill: #D2E3FC;\n",
              "      }\n",
              "\n",
              "      [theme=dark] .colab-df-generate:hover {\n",
              "        background-color: #434B5C;\n",
              "        box-shadow: 0px 1px 3px 1px rgba(0, 0, 0, 0.15);\n",
              "        filter: drop-shadow(0px 1px 2px rgba(0, 0, 0, 0.3));\n",
              "        fill: #FFFFFF;\n",
              "      }\n",
              "    </style>\n",
              "    <button class=\"colab-df-generate\" onclick=\"generateWithVariable('df')\"\n",
              "            title=\"Generate code using this dataframe.\"\n",
              "            style=\"display:none;\">\n",
              "\n",
              "  <svg xmlns=\"http://www.w3.org/2000/svg\" height=\"24px\"viewBox=\"0 0 24 24\"\n",
              "       width=\"24px\">\n",
              "    <path d=\"M7,19H8.4L18.45,9,17,7.55,7,17.6ZM5,21V16.75L18.45,3.32a2,2,0,0,1,2.83,0l1.4,1.43a1.91,1.91,0,0,1,.58,1.4,1.91,1.91,0,0,1-.58,1.4L9.25,21ZM18.45,9,17,7.55Zm-12,3A5.31,5.31,0,0,0,4.9,8.1,5.31,5.31,0,0,0,1,6.5,5.31,5.31,0,0,0,4.9,4.9,5.31,5.31,0,0,0,6.5,1,5.31,5.31,0,0,0,8.1,4.9,5.31,5.31,0,0,0,12,6.5,5.46,5.46,0,0,0,6.5,12Z\"/>\n",
              "  </svg>\n",
              "    </button>\n",
              "    <script>\n",
              "      (() => {\n",
              "      const buttonEl =\n",
              "        document.querySelector('#id_ebd698f5-cdfd-4fcf-a368-d85655d0cc54 button.colab-df-generate');\n",
              "      buttonEl.style.display =\n",
              "        google.colab.kernel.accessAllowed ? 'block' : 'none';\n",
              "\n",
              "      buttonEl.onclick = () => {\n",
              "        google.colab.notebook.generateWithVariable('df');\n",
              "      }\n",
              "      })();\n",
              "    </script>\n",
              "  </div>\n",
              "\n",
              "    </div>\n",
              "  </div>\n"
            ],
            "application/vnd.google.colaboratory.intrinsic+json": {
              "type": "dataframe",
              "variable_name": "df",
              "summary": "{\n  \"name\": \"df\",\n  \"rows\": 280,\n  \"fields\": [\n    {\n      \"column\": \"age_group\",\n      \"properties\": {\n        \"dtype\": \"number\",\n        \"std\": 0.6893231540070894,\n        \"min\": 1.0,\n        \"max\": 3.0,\n        \"num_unique_values\": 3,\n        \"samples\": [\n          3.0,\n          2.0,\n          1.0\n        ],\n        \"semantic_type\": \"\",\n        \"description\": \"\"\n      }\n    },\n    {\n      \"column\": \"PMAT24_A_CR\",\n      \"properties\": {\n        \"dtype\": \"number\",\n        \"std\": 4.8922020147368634,\n        \"min\": 6.0,\n        \"max\": 24.0,\n        \"num_unique_values\": 17,\n        \"samples\": [\n          18.0,\n          22.0,\n          14.0\n        ],\n        \"semantic_type\": \"\",\n        \"description\": \"\"\n      }\n    },\n    {\n      \"column\": \"Gender\",\n      \"properties\": {\n        \"dtype\": \"number\",\n        \"std\": 0.4907751165796434,\n        \"min\": 0.0,\n        \"max\": 1.0,\n        \"num_unique_values\": 2,\n        \"samples\": [\n          0.0,\n          1.0\n        ],\n        \"semantic_type\": \"\",\n        \"description\": \"\"\n      }\n    }\n  ]\n}"
            }
          },
          "metadata": {},
          "execution_count": 97
        }
      ]
    },
    {
      "cell_type": "code",
      "source": [
        "# Save to CSV\n",
        "df.to_csv(\"labels.csv\", index=False)"
      ],
      "metadata": {
        "id": "78kLtW_FFO01"
      },
      "execution_count": 98,
      "outputs": []
    },
    {
      "cell_type": "code",
      "source": [],
      "metadata": {
        "id": "j9jt5_hpFk7P"
      },
      "execution_count": null,
      "outputs": []
    }
  ],
  "metadata": {
    "kernelspec": {
      "display_name": ".brainvenv",
      "language": "python",
      "name": "python3"
    },
    "language_info": {
      "codemirror_mode": {
        "name": "ipython",
        "version": 3
      },
      "file_extension": ".py",
      "mimetype": "text/x-python",
      "name": "python",
      "nbconvert_exporter": "python",
      "pygments_lexer": "ipython3",
      "version": "3.12.3"
    },
    "colab": {
      "provenance": []
    }
  },
  "nbformat": 4,
  "nbformat_minor": 0
}